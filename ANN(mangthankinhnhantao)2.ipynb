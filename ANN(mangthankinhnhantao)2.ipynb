{
  "nbformat": 4,
  "nbformat_minor": 0,
  "metadata": {
    "colab": {
      "provenance": [],
      "authorship_tag": "ABX9TyOLXoP1MCIVXBmP7lPP8dPg",
      "include_colab_link": true
    },
    "kernelspec": {
      "name": "python3",
      "display_name": "Python 3"
    },
    "language_info": {
      "name": "python"
    }
  },
  "cells": [
    {
      "cell_type": "markdown",
      "metadata": {
        "id": "view-in-github",
        "colab_type": "text"
      },
      "source": [
        "<a href=\"https://colab.research.google.com/github/VoTanThinh/ANN/blob/main/ANN(mangthankinhnhantao)2.ipynb\" target=\"_parent\"><img src=\"https://colab.research.google.com/assets/colab-badge.svg\" alt=\"Open In Colab\"/></a>"
      ]
    },
    {
      "cell_type": "code",
      "source": [
        "from sklearn.linear_model import Perceptron\n",
        "x=[[0,0],[0,1],[1,0],[1,1]]\n",
        "t=[0,1,1,1]\n",
        "model = Perceptron()                #dạy học\n",
        "model.fit(x,t)\n",
        "model.score(x,t)"
      ],
      "metadata": {
        "colab": {
          "base_uri": "https://localhost:8080/"
        },
        "id": "T7dA3VmQu4I8",
        "outputId": "14b6c508-0aaf-4c40-8def-7b957c94e1a0"
      },
      "execution_count": null,
      "outputs": [
        {
          "output_type": "execute_result",
          "data": {
            "text/plain": [
              "1.0"
            ]
          },
          "metadata": {},
          "execution_count": 6
        }
      ]
    },
    {
      "cell_type": "code",
      "source": [
        "x1=[[-3,-3],[1,1],[13,18],[15,12]]\n",
        "y1=model.predict(x1)\n",
        "model.score(x1,y1)\n",
        "print((y1))"
      ],
      "metadata": {
        "colab": {
          "base_uri": "https://localhost:8080/"
        },
        "id": "LuFKdvC9vQ4w",
        "outputId": "37cfc525-4b0a-450b-a503-f4f50da1c42f"
      },
      "execution_count": null,
      "outputs": [
        {
          "output_type": "stream",
          "name": "stdout",
          "text": [
            "[0 1 1 1]\n"
          ]
        }
      ]
    },
    {
      "cell_type": "code",
      "source": [
        "from sklearn.linear_model import Perceptron\n",
        "x1=[[0.5,0.5],[-0.5,0.5],[10,20],[-1,-2]]\n",
        "y1=model.predict(x1)\n",
        "model.score(x1,y1)\n",
        "print(y1)"
      ],
      "metadata": {
        "colab": {
          "base_uri": "https://localhost:8080/"
        },
        "id": "BtwQ-GO1v3yv",
        "outputId": "09151ef0-755e-47dc-d824-c89395f29d7e"
      },
      "execution_count": null,
      "outputs": [
        {
          "output_type": "stream",
          "name": "stdout",
          "text": [
            "[1 1 1 0]\n"
          ]
        }
      ]
    },
    {
      "cell_type": "code",
      "source": [
        "x1=[[-0.5,0.5]]             # dưới 0.5 là 0 và trên 0.5 là 1 đường phân chia đường dữ liệu\n",
        "y1=model.predict(x1)\n",
        "model.score(x1,y1)\n",
        "print((y1))"
      ],
      "metadata": {
        "colab": {
          "base_uri": "https://localhost:8080/"
        },
        "id": "ydocHb7tyCiU",
        "outputId": "3a15ebe8-5686-4ca7-e56b-0253f700c4ea"
      },
      "execution_count": null,
      "outputs": [
        {
          "output_type": "stream",
          "name": "stdout",
          "text": [
            "[1]\n"
          ]
        }
      ]
    },
    {
      "cell_type": "code",
      "source": [
        "from sklearn.linear_model import Perceptron\n",
        "x2=[[-0.5,-0.5],[-0.5,0.5],[0.3,-0.5],[-0.1,1]]\n",
        "t2=[1,1,0,0]\n",
        "model = Perceptron()\n",
        "model.fit(x2,t2)\n",
        "model.score(x2,t2)\n",
        "\n",
        "x3=[[0,0],[0,1],[1,0],[1,1]]            # dưới 0.5 là 0 và trên 0.5 là 1 đường phân chia đường dữ liệu\n",
        "y4=model.predict(x3)\n",
        "model.score(x3,y4)\n",
        "print((y4))"
      ],
      "metadata": {
        "colab": {
          "base_uri": "https://localhost:8080/"
        },
        "id": "tjhJI9L-ytde",
        "outputId": "7f2ed309-3589-49f7-f485-f0edb8bee513"
      },
      "execution_count": null,
      "outputs": [
        {
          "output_type": "stream",
          "name": "stdout",
          "text": [
            "[0 0 0 0]\n"
          ]
        }
      ]
    },
    {
      "cell_type": "code",
      "source": [
        "from pandas.io.formats.format import east_asian_width\n",
        "# truy xuất tập dữ liệu trên mạng phân loại hoa lan (0,1,2) xem (0,1)                #3 loại \n",
        "from sklearn.linear_model import Perceptron\n",
        "from sklearn import datasets\n",
        "from sklearn.model_selection import train_test_split          #dữ liệu train k được dùng để test\n",
        "from sklearn.metrics import accuracy_score \n",
        "from sklearn.preprocessing import StandardScaler              #sacle tỉ về cho dữ liệu đều nhau\n",
        "iris = datasets.load_iris()                 #lấy thông tin từ dữ liệu data của hoa lan   #(150 hàng 4 cột)\n",
        "x=iris.data                                 \n",
        "y=iris.target                               \n",
        "print(x[:5])                            #in ra dữ diệu cần tìm trong khoảng\n",
        "print(y[:5])\n",
        "\n",
        "#chia dữ liệu\n",
        "x_train, x_test, y_train, y_test = train_test_split(x,y,test_size=0.3)                          #30% test 70%train\n",
        "sc = StandardScaler()\n",
        "sc.fit(x_train)    # học tỉ lệ\n",
        "x_train_std = sc.transform(x_train)     # nhân tỉ lệ đó \n",
        "x_test_std = sc.transform(x_test)\n",
        "print(x_train_std[:5],x_train[:5])   #xuất 2 dữ liệu ra\n",
        "print(y[:5])\n",
        "model2 = Perceptron(max_iter=90,eta0=0.9,random_state=0)    #(số lần học max_iter=40laan, eta0(tốc độ học (0-1)),radom_state trạng thái lấy)\n",
        "model2.fit(x_train_std,y_train)   #\n",
        "y_pred = model2.predict(x_test_std)   # tien đón giá trị ra\n",
        "print(y_pred)\n",
        "print(y_test)\n",
        "print('độ chính xác mô hình',accuracy_score(y_test,y_pred))  #in ra độ chính xác                                    #sacle thì tỉ lệ tăng lên\n",
        "\n",
        "\n",
        "\n",
        "\n",
        "\n"
      ],
      "metadata": {
        "colab": {
          "base_uri": "https://localhost:8080/"
        },
        "id": "DHQaP7BA1t2S",
        "outputId": "730608de-e9b9-4530-9739-e061efbceed4"
      },
      "execution_count": null,
      "outputs": [
        {
          "output_type": "stream",
          "name": "stdout",
          "text": [
            "[[5.1 3.5 1.4 0.2]\n",
            " [4.9 3.  1.4 0.2]\n",
            " [4.7 3.2 1.3 0.2]\n",
            " [4.6 3.1 1.5 0.2]\n",
            " [5.  3.6 1.4 0.2]]\n",
            "[0 0 0 0 0]\n",
            "[[ 0.81113319 -0.06769308  1.16481211  1.29258844]\n",
            " [-0.0333185  -0.7340468   0.19999094 -0.26593925]\n",
            " [-0.87777019  1.70925018 -1.21886372 -1.30495771]\n",
            " [-0.39522637 -1.40040051 -0.0270258  -0.26593925]\n",
            " [-0.99840615 -2.28887214 -0.14053418 -0.26593925]] [[6.5 3.  5.8 2.2]\n",
            " [5.8 2.7 4.1 1. ]\n",
            " [5.1 3.8 1.6 0.2]\n",
            " [5.5 2.4 3.7 1. ]\n",
            " [5.  2.  3.5 1. ]]\n",
            "[0 0 0 0 0]\n",
            "[0 2 2 0 1 1 2 0 0 0 2 0 2 2 0 0 0 1 0 0 1 2 2 2 0 2 1 1 0 0 0 0 0 0 2 2 0\n",
            " 2 2 0 1 1 1 0 2]\n",
            "[0 2 2 0 1 1 2 0 1 0 2 0 2 2 0 1 1 1 0 0 1 2 2 1 0 2 1 1 0 1 0 1 0 0 2 2 0\n",
            " 2 2 1 1 1 1 0 2]\n",
            "độ chính xác mô hình 0.8444444444444444\n"
          ]
        }
      ]
    },
    {
      "cell_type": "code",
      "source": [
        "import pandas as pd        #INPUT:LOÀI+CÁC ĐẶC TÍNH\n",
        "import numpy as np         #OUTPU:GIỚI TÍNH\n",
        "from pandas.io.formats.format import east_asian_width\n",
        "# truy xuất tập dữ liệu trên mạng phân loại hoa lan (0,1,2) xem (0,1)                #3 loại \n",
        "from sklearn.linear_model import Perceptron\n",
        "from sklearn import datasets\n",
        "from sklearn.model_selection import train_test_split          #dữ liệu train k được dùng để test\n",
        "from sklearn.metrics import accuracy_score \n",
        "from sklearn.preprocessing import StandardScaler \n",
        "url='crabs.csv'\n",
        "data= pd.read_csv(url)\n",
        "x = data['speies']                                 \n",
        "y = data['sex'] \n",
        "k=x.replace(['B','O'],['0','1'])\n",
        "k.head(20)\n",
        "z=y.replace(['M','F'],['1','0'])\n",
        "z.head(20)\n",
        "                             \n",
        "\n",
        "#x_train, x_test, y_train, y_test = train_test_split(x,y,test_size=0.3)                          #30% test 70%train\n",
        "#print(x_train_std[:10],x_train[:10])   #xuất 2 dữ liệu ra\n",
        "#print(y[:10])\n",
        "\n",
        "\n",
        "\n",
        "\n",
        "\n"
      ],
      "metadata": {
        "colab": {
          "base_uri": "https://localhost:8080/"
        },
        "id": "or6xff-J_jkc",
        "outputId": "5edcdcd9-3121-43aa-bc0c-5271e51423dc"
      },
      "execution_count": null,
      "outputs": [
        {
          "output_type": "execute_result",
          "data": {
            "text/plain": [
              "0     1\n",
              "1     1\n",
              "2     1\n",
              "3     1\n",
              "4     1\n",
              "5     1\n",
              "6     1\n",
              "7     1\n",
              "8     1\n",
              "9     1\n",
              "10    1\n",
              "11    1\n",
              "12    1\n",
              "13    1\n",
              "14    1\n",
              "15    1\n",
              "16    1\n",
              "17    1\n",
              "18    1\n",
              "19    1\n",
              "Name: sex, dtype: object"
            ]
          },
          "metadata": {},
          "execution_count": 106
        }
      ]
    }
  ]
}